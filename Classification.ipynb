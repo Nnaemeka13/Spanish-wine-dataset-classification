{
 "cells": [
  {
   "cell_type": "code",
   "execution_count": 1,
   "id": "374824b5",
   "metadata": {},
   "outputs": [],
   "source": [
    "import numpy as np\n",
    "import pandas as pd\n",
    "import matplotlib.pyplot as plt"
   ]
  },
  {
   "cell_type": "code",
   "execution_count": 2,
   "id": "7e6f401a",
   "metadata": {},
   "outputs": [
    {
     "data": {
      "text/html": [
       "<div>\n",
       "<style scoped>\n",
       "    .dataframe tbody tr th:only-of-type {\n",
       "        vertical-align: middle;\n",
       "    }\n",
       "\n",
       "    .dataframe tbody tr th {\n",
       "        vertical-align: top;\n",
       "    }\n",
       "\n",
       "    .dataframe thead th {\n",
       "        text-align: right;\n",
       "    }\n",
       "</style>\n",
       "<table border=\"1\" class=\"dataframe\">\n",
       "  <thead>\n",
       "    <tr style=\"text-align: right;\">\n",
       "      <th></th>\n",
       "      <th>winery</th>\n",
       "      <th>wine</th>\n",
       "      <th>year</th>\n",
       "      <th>rating</th>\n",
       "      <th>num_reviews</th>\n",
       "      <th>country</th>\n",
       "      <th>region</th>\n",
       "      <th>price</th>\n",
       "      <th>type</th>\n",
       "      <th>body</th>\n",
       "      <th>acidity</th>\n",
       "    </tr>\n",
       "  </thead>\n",
       "  <tbody>\n",
       "    <tr>\n",
       "      <th>0</th>\n",
       "      <td>Teso La Monja</td>\n",
       "      <td>Tinto</td>\n",
       "      <td>2013</td>\n",
       "      <td>4.9</td>\n",
       "      <td>58</td>\n",
       "      <td>Espana</td>\n",
       "      <td>Toro</td>\n",
       "      <td>995.00</td>\n",
       "      <td>Toro Red</td>\n",
       "      <td>5.0</td>\n",
       "      <td>3.0</td>\n",
       "    </tr>\n",
       "    <tr>\n",
       "      <th>1</th>\n",
       "      <td>Artadi</td>\n",
       "      <td>Vina El Pison</td>\n",
       "      <td>2018</td>\n",
       "      <td>4.9</td>\n",
       "      <td>31</td>\n",
       "      <td>Espana</td>\n",
       "      <td>Vino de Espana</td>\n",
       "      <td>313.50</td>\n",
       "      <td>Tempranillo</td>\n",
       "      <td>4.0</td>\n",
       "      <td>2.0</td>\n",
       "    </tr>\n",
       "    <tr>\n",
       "      <th>2</th>\n",
       "      <td>Vega Sicilia</td>\n",
       "      <td>Unico</td>\n",
       "      <td>2009</td>\n",
       "      <td>4.8</td>\n",
       "      <td>1793</td>\n",
       "      <td>Espana</td>\n",
       "      <td>Ribera del Duero</td>\n",
       "      <td>324.95</td>\n",
       "      <td>Ribera Del Duero Red</td>\n",
       "      <td>5.0</td>\n",
       "      <td>3.0</td>\n",
       "    </tr>\n",
       "    <tr>\n",
       "      <th>3</th>\n",
       "      <td>Vega Sicilia</td>\n",
       "      <td>Unico</td>\n",
       "      <td>1999</td>\n",
       "      <td>4.8</td>\n",
       "      <td>1705</td>\n",
       "      <td>Espana</td>\n",
       "      <td>Ribera del Duero</td>\n",
       "      <td>692.96</td>\n",
       "      <td>Ribera Del Duero Red</td>\n",
       "      <td>5.0</td>\n",
       "      <td>3.0</td>\n",
       "    </tr>\n",
       "    <tr>\n",
       "      <th>4</th>\n",
       "      <td>Vega Sicilia</td>\n",
       "      <td>Unico</td>\n",
       "      <td>1996</td>\n",
       "      <td>4.8</td>\n",
       "      <td>1309</td>\n",
       "      <td>Espana</td>\n",
       "      <td>Ribera del Duero</td>\n",
       "      <td>778.06</td>\n",
       "      <td>Ribera Del Duero Red</td>\n",
       "      <td>5.0</td>\n",
       "      <td>3.0</td>\n",
       "    </tr>\n",
       "  </tbody>\n",
       "</table>\n",
       "</div>"
      ],
      "text/plain": [
       "          winery           wine  year  rating  num_reviews country  \\\n",
       "0  Teso La Monja          Tinto  2013     4.9           58  Espana   \n",
       "1         Artadi  Vina El Pison  2018     4.9           31  Espana   \n",
       "2   Vega Sicilia          Unico  2009     4.8         1793  Espana   \n",
       "3   Vega Sicilia          Unico  1999     4.8         1705  Espana   \n",
       "4   Vega Sicilia          Unico  1996     4.8         1309  Espana   \n",
       "\n",
       "             region   price                  type  body  acidity  \n",
       "0              Toro  995.00              Toro Red   5.0      3.0  \n",
       "1    Vino de Espana  313.50           Tempranillo   4.0      2.0  \n",
       "2  Ribera del Duero  324.95  Ribera Del Duero Red   5.0      3.0  \n",
       "3  Ribera del Duero  692.96  Ribera Del Duero Red   5.0      3.0  \n",
       "4  Ribera del Duero  778.06  Ribera Del Duero Red   5.0      3.0  "
      ]
     },
     "execution_count": 2,
     "metadata": {},
     "output_type": "execute_result"
    }
   ],
   "source": [
    "wine = pd.read_csv(\"wines_SPA2.csv\")\n",
    "wine.head()"
   ]
  },
  {
   "cell_type": "code",
   "execution_count": 3,
   "id": "4d38f6f1",
   "metadata": {},
   "outputs": [
    {
     "name": "stdout",
     "output_type": "stream",
     "text": [
      "<class 'pandas.core.frame.DataFrame'>\n",
      "RangeIndex: 7500 entries, 0 to 7499\n",
      "Data columns (total 11 columns):\n",
      " #   Column       Non-Null Count  Dtype  \n",
      "---  ------       --------------  -----  \n",
      " 0   winery       7500 non-null   object \n",
      " 1   wine         7500 non-null   object \n",
      " 2   year         7498 non-null   object \n",
      " 3   rating       7500 non-null   float64\n",
      " 4   num_reviews  7500 non-null   int64  \n",
      " 5   country      7500 non-null   object \n",
      " 6   region       7500 non-null   object \n",
      " 7   price        7500 non-null   float64\n",
      " 8   type         6955 non-null   object \n",
      " 9   body         6331 non-null   float64\n",
      " 10  acidity      6331 non-null   float64\n",
      "dtypes: float64(4), int64(1), object(6)\n",
      "memory usage: 644.7+ KB\n"
     ]
    }
   ],
   "source": [
    "wine.info()"
   ]
  },
  {
   "cell_type": "code",
   "execution_count": 4,
   "id": "5fa0bc7f",
   "metadata": {},
   "outputs": [
    {
     "data": {
      "text/plain": [
       "(7500, 11)"
      ]
     },
     "execution_count": 4,
     "metadata": {},
     "output_type": "execute_result"
    }
   ],
   "source": [
    "wine.shape"
   ]
  },
  {
   "cell_type": "code",
   "execution_count": 5,
   "id": "e2d2df3e",
   "metadata": {},
   "outputs": [],
   "source": [
    "wine = wine.dropna(subset = ['type'])"
   ]
  },
  {
   "cell_type": "code",
   "execution_count": 6,
   "id": "73924d8d",
   "metadata": {},
   "outputs": [],
   "source": [
    "wine['year'].fillna(wine['year'].mode()[0], inplace=True)\n",
    "wine['body'].fillna(wine['body'].median(), inplace=True)\n",
    "wine['acidity'].fillna(wine['acidity'].median(), inplace=True)\n"
   ]
  },
  {
   "cell_type": "code",
   "execution_count": 7,
   "id": "9b41c223",
   "metadata": {},
   "outputs": [
    {
     "data": {
      "text/plain": [
       "winery         0\n",
       "wine           0\n",
       "year           0\n",
       "rating         0\n",
       "num_reviews    0\n",
       "country        0\n",
       "region         0\n",
       "price          0\n",
       "type           0\n",
       "body           0\n",
       "acidity        0\n",
       "dtype: int64"
      ]
     },
     "execution_count": 7,
     "metadata": {},
     "output_type": "execute_result"
    }
   ],
   "source": [
    "wine.isnull().sum()"
   ]
  },
  {
   "cell_type": "code",
   "execution_count": 8,
   "id": "3376fccf",
   "metadata": {},
   "outputs": [
    {
     "data": {
      "text/plain": [
       "(6955, 11)"
      ]
     },
     "execution_count": 8,
     "metadata": {},
     "output_type": "execute_result"
    }
   ],
   "source": [
    "wine.shape"
   ]
  },
  {
   "cell_type": "code",
   "execution_count": 9,
   "id": "d456d5af",
   "metadata": {},
   "outputs": [
    {
     "name": "stderr",
     "output_type": "stream",
     "text": [
      "C:\\Users\\KING MEKZ\\AppData\\Local\\Temp\\ipykernel_8484\\3997320868.py:1: FutureWarning: The default value of numeric_only in DataFrame.corr is deprecated. In a future version, it will default to False. Select only valid columns or specify the value of numeric_only to silence this warning.\n",
      "  wine.corr()\n"
     ]
    },
    {
     "data": {
      "text/html": [
       "<div>\n",
       "<style scoped>\n",
       "    .dataframe tbody tr th:only-of-type {\n",
       "        vertical-align: middle;\n",
       "    }\n",
       "\n",
       "    .dataframe tbody tr th {\n",
       "        vertical-align: top;\n",
       "    }\n",
       "\n",
       "    .dataframe thead th {\n",
       "        text-align: right;\n",
       "    }\n",
       "</style>\n",
       "<table border=\"1\" class=\"dataframe\">\n",
       "  <thead>\n",
       "    <tr style=\"text-align: right;\">\n",
       "      <th></th>\n",
       "      <th>rating</th>\n",
       "      <th>num_reviews</th>\n",
       "      <th>price</th>\n",
       "      <th>body</th>\n",
       "      <th>acidity</th>\n",
       "    </tr>\n",
       "  </thead>\n",
       "  <tbody>\n",
       "    <tr>\n",
       "      <th>rating</th>\n",
       "      <td>1.000000</td>\n",
       "      <td>0.019535</td>\n",
       "      <td>0.548401</td>\n",
       "      <td>0.165522</td>\n",
       "      <td>-0.097268</td>\n",
       "    </tr>\n",
       "    <tr>\n",
       "      <th>num_reviews</th>\n",
       "      <td>0.019535</td>\n",
       "      <td>1.000000</td>\n",
       "      <td>-0.031971</td>\n",
       "      <td>0.058393</td>\n",
       "      <td>0.041304</td>\n",
       "    </tr>\n",
       "    <tr>\n",
       "      <th>price</th>\n",
       "      <td>0.548401</td>\n",
       "      <td>-0.031971</td>\n",
       "      <td>1.000000</td>\n",
       "      <td>0.156720</td>\n",
       "      <td>-0.035925</td>\n",
       "    </tr>\n",
       "    <tr>\n",
       "      <th>body</th>\n",
       "      <td>0.165522</td>\n",
       "      <td>0.058393</td>\n",
       "      <td>0.156720</td>\n",
       "      <td>1.000000</td>\n",
       "      <td>-0.023068</td>\n",
       "    </tr>\n",
       "    <tr>\n",
       "      <th>acidity</th>\n",
       "      <td>-0.097268</td>\n",
       "      <td>0.041304</td>\n",
       "      <td>-0.035925</td>\n",
       "      <td>-0.023068</td>\n",
       "      <td>1.000000</td>\n",
       "    </tr>\n",
       "  </tbody>\n",
       "</table>\n",
       "</div>"
      ],
      "text/plain": [
       "               rating  num_reviews     price      body   acidity\n",
       "rating       1.000000     0.019535  0.548401  0.165522 -0.097268\n",
       "num_reviews  0.019535     1.000000 -0.031971  0.058393  0.041304\n",
       "price        0.548401    -0.031971  1.000000  0.156720 -0.035925\n",
       "body         0.165522     0.058393  0.156720  1.000000 -0.023068\n",
       "acidity     -0.097268     0.041304 -0.035925 -0.023068  1.000000"
      ]
     },
     "execution_count": 9,
     "metadata": {},
     "output_type": "execute_result"
    }
   ],
   "source": [
    "wine.corr()"
   ]
  },
  {
   "cell_type": "code",
   "execution_count": 10,
   "id": "21947052",
   "metadata": {},
   "outputs": [
    {
     "data": {
      "text/plain": [
       "((5564, 10), (1391, 10), (5564,), (1391,))"
      ]
     },
     "execution_count": 10,
     "metadata": {},
     "output_type": "execute_result"
    }
   ],
   "source": [
    "from sklearn.model_selection import train_test_split\n",
    "from sklearn.preprocessing import LabelEncoder\n",
    "\n",
    "# Encode categorical variables\n",
    "label_encoders = {}\n",
    "for column in ['winery', 'wine', 'year', 'country', 'region', 'type']:\n",
    "    le = LabelEncoder()\n",
    "    wine[column] = le.fit_transform(wine[column])\n",
    "    label_encoders[column] = le\n",
    "\n",
    "# Define features and target variable\n",
    "X = wine.drop('type', axis=1)\n",
    "y = wine['type']\n",
    "\n",
    "# Split the data into training and testing sets\n",
    "X_train, X_test, y_train, y_test = train_test_split(X, y, test_size=0.2, random_state=55)\n",
    "\n",
    "X_train.shape, X_test.shape, y_train.shape, y_test.shape"
   ]
  },
  {
   "cell_type": "code",
   "execution_count": 11,
   "id": "06e3f72e",
   "metadata": {},
   "outputs": [
    {
     "name": "stderr",
     "output_type": "stream",
     "text": [
      "C:\\Users\\KING MEKZ\\anaconda3\\Lib\\site-packages\\sklearn\\metrics\\_classification.py:1509: UndefinedMetricWarning: Precision is ill-defined and being set to 0.0 in labels with no predicted samples. Use `zero_division` parameter to control this behavior.\n",
      "  _warn_prf(average, modifier, f\"{metric.capitalize()} is\", len(result))\n",
      "C:\\Users\\KING MEKZ\\anaconda3\\Lib\\site-packages\\sklearn\\metrics\\_classification.py:1509: UndefinedMetricWarning: Precision is ill-defined and being set to 0.0 in labels with no predicted samples. Use `zero_division` parameter to control this behavior.\n",
      "  _warn_prf(average, modifier, f\"{metric.capitalize()} is\", len(result))\n",
      "C:\\Users\\KING MEKZ\\anaconda3\\Lib\\site-packages\\sklearn\\metrics\\_classification.py:1509: UndefinedMetricWarning: Precision is ill-defined and being set to 0.0 in labels with no predicted samples. Use `zero_division` parameter to control this behavior.\n",
      "  _warn_prf(average, modifier, f\"{metric.capitalize()} is\", len(result))\n"
     ]
    },
    {
     "data": {
      "text/plain": [
       "(0.9928109273903667,\n",
       " '              precision    recall  f1-score   support\\n\\n           0       1.00      1.00      1.00        42\\n           1       1.00      1.00      1.00         1\\n           2       0.89      0.89      0.89         9\\n           3       1.00      0.67      0.80         3\\n           4       0.86      0.86      0.86         7\\n           5       1.00      1.00      1.00        45\\n           6       1.00      0.75      0.86         4\\n           7       1.00      0.80      0.89         5\\n           8       1.00      1.00      1.00        13\\n           9       1.00      1.00      1.00       140\\n          10       0.98      1.00      0.99       171\\n          11       0.99      1.00      0.99       257\\n          12       1.00      1.00      1.00       489\\n          13       1.00      0.96      0.98        25\\n          15       1.00      1.00      1.00        60\\n          16       0.00      0.00      0.00         1\\n          17       0.00      0.00      0.00         1\\n          18       1.00      0.98      0.99        62\\n          19       1.00      1.00      1.00        53\\n          20       1.00      0.67      0.80         3\\n\\n    accuracy                           0.99      1391\\n   macro avg       0.89      0.83      0.85      1391\\nweighted avg       0.99      0.99      0.99      1391\\n')"
      ]
     },
     "execution_count": 11,
     "metadata": {},
     "output_type": "execute_result"
    }
   ],
   "source": [
    "from sklearn.ensemble import RandomForestClassifier\n",
    "from sklearn.metrics import classification_report, accuracy_score\n",
    "\n",
    "# Initialize the Random Forest classifier\n",
    "rf_classifier = RandomForestClassifier(random_state=55)\n",
    "\n",
    "# Train the model\n",
    "rf_classifier.fit(X_train, y_train)\n",
    "\n",
    "# Make predictions on the test set\n",
    "y_pred = rf_classifier.predict(X_test)\n",
    "\n",
    "# Evaluate the model's performance\n",
    "accuracy = accuracy_score(y_test, y_pred)\n",
    "report = classification_report(y_test, y_pred)\n",
    "\n",
    "accuracy, report"
   ]
  },
  {
   "cell_type": "code",
   "execution_count": 12,
   "id": "f65dae35",
   "metadata": {},
   "outputs": [
    {
     "name": "stdout",
     "output_type": "stream",
     "text": [
      "The training accuracy for Random Forest is: 100.0 %\n",
      "The testing accuracy for Random Forest is: 99.14 %\n"
     ]
    }
   ],
   "source": [
    "rfc = RandomForestClassifier()\n",
    "rfc.fit(X_train, y_train)\n",
    "rfc_pred = rfc.predict(X_test)\n",
    "rfc_acc = accuracy_score(y_test, rfc_pred)\n",
    "print(\"The training accuracy for Random Forest is:\", round(rfc.score(X_train, y_train)*100,2), \"%\")\n",
    "print(\"The testing accuracy for Random Forest is:\", round(rfc_acc * 100,2), \"%\")"
   ]
  },
  {
   "cell_type": "code",
   "execution_count": 13,
   "id": "4f132a3b",
   "metadata": {},
   "outputs": [],
   "source": [
    "from sklearn.tree import DecisionTreeClassifier"
   ]
  },
  {
   "cell_type": "raw",
   "id": "23b8b99b",
   "metadata": {},
   "source": [
    "dtc = DecisionTreeClassifier()\n",
    "dtc.fit(X_train, y_train)\n",
    "dtc_pred = dtc.predict(X_test)\n",
    "dtc_acc = accuracy_score(y_test, dtc_pred)\n",
    "print(\"The training accuracy for decision tree classifier is:\", round(dtc.score(X_train, y_train)*100,2), \"%\")\n",
    "print(\"The testing accuracy for decision tree classifier is:\", round(dtc_acc * 100,2), \"%\")"
   ]
  },
  {
   "cell_type": "code",
   "execution_count": 19,
   "id": "2997656f",
   "metadata": {},
   "outputs": [
    {
     "data": {
      "text/plain": [
       "['./wine_classifer.pkl']"
      ]
     },
     "execution_count": 19,
     "metadata": {},
     "output_type": "execute_result"
    }
   ],
   "source": [
    "import joblib\n",
    "\n",
    "# Save the model as a pickle file\n",
    "filename = './wine_classifer.pkl'\n",
    "joblib.dump(rfc, filename)\n"
   ]
  },
  {
   "cell_type": "code",
   "execution_count": 21,
   "id": "9ef88b53",
   "metadata": {},
   "outputs": [
    {
     "name": "stderr",
     "output_type": "stream",
     "text": [
      "C:\\Users\\KING MEKZ\\anaconda3\\Lib\\site-packages\\sklearn\\base.py:493: UserWarning: X does not have valid feature names, but RandomForestClassifier was fitted with feature names\n",
      "  warnings.warn(\n"
     ]
    }
   ],
   "source": [
    "x_new = np.array([[13.72,1.43,2.5,16.7,108,3.4,3.67,0.19,2.04,6.8],\n",
    "                  [12.37,0.94,1.36,10.6,88,1.98,0.57,0.28,0.42,1.95]])\n",
    "\n",
    "# Call the web service, passing the input data\n",
    "predictions = rfc.predict(x_new)\n"
   ]
  },
  {
   "cell_type": "code",
   "execution_count": null,
   "id": "62c437e2",
   "metadata": {},
   "outputs": [],
   "source": []
  }
 ],
 "metadata": {
  "kernelspec": {
   "display_name": "Python 3 (ipykernel)",
   "language": "python",
   "name": "python3"
  },
  "language_info": {
   "codemirror_mode": {
    "name": "ipython",
    "version": 3
   },
   "file_extension": ".py",
   "mimetype": "text/x-python",
   "name": "python",
   "nbconvert_exporter": "python",
   "pygments_lexer": "ipython3",
   "version": "3.11.3"
  }
 },
 "nbformat": 4,
 "nbformat_minor": 5
}
